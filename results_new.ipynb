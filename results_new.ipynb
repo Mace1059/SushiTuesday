import riskparity
import mpt  # <-- Make sure mpt.py is your "new" version (annualized Sharpe)
from datetime import datetime
from dateutil.relativedelta import relativedelta
import yfinance as yf
import numpy as np
import pandas as pd
from utils import *
import matplotlib.pyplot as plt

def optimal_portfolio_returns1(tickers, b, year_range_start, years, short_run_years):
    """
    Compare MPT vs. Risk Parity across:
      1) A "long run" (e.g. 'years' total) window
      2) Rolling short-run windows (e.g. 'short_run_years' each),
         stepping every 6 months

    Returns:
      x_axis_mpt   : [MPT Sharpe in each short-run window]
      y_axis_rp    : [RP Sharpe in each short-run window]
      long_run_mpt : MPT Sharpe over entire 'years' period (annualized)
      long_run_rp  : Risk Parity Sharpe over entire 'years' period (approx)
    """

    # ----- 1) Basic setup, download data -----
    yearly_rf_rate = 0.03
    current_date = datetime.strptime(year_range_start, "%Y-%m-%d")

    # Start data ~2+ years earlier, so riskparity or MPT can look back
    start_date_for_data = (current_date - relativedelta(months=25)).strftime("%Y-%m-%d")

    # Final end date after 'years' from year_range_start
    final_date, final_date_str = year(year_range_start, years)

    # Download data for tickers
    data = yf.download(tickers, start=start_date_for_data, end=final_date_str)["Close"]
    data = data.fillna(method='pad')
    print(data)

    # Download S&P 500 data for CAPM-based market predictions
    market_data = yf.download("^GSPC", start=start_date_for_data, end=final_date_str)["Close"]

    # Total trading days in entire [year_range_start, final_date] window
    trading_days = get_trading_days(year_range_start, final_date_str)

    # Daily risk-free rate (for MPT)
    daily_rf_rate = (1 + yearly_rf_rate)**(1/252) - 1
    # "Long-run" total RFR (for entire 'years' period), used in final Sharpe
    risk_free_rate_over_lr = (1 + yearly_rf_rate)**(years) - 1

    # ----- 2) "Long run" MPT Sharpe via new mpt.find_best_portfolio code -----
    print("=================START=================")
    print("LR RFR:", risk_free_rate_over_lr)

    # mpt.find_best_portfolio() should be your new code that returns *annualized Sharpe*
    long_run_mpt_sharpe = mpt.find_best_portfolio(
        data,         # full price data
        market_data,  # S&P 500 data
        daily_rf_rate,
        year_range_start,
        final_date_str
    )
    print("LONG RUN MPT SHARPE:", long_run_mpt_sharpe)
    print("=================END=================\n")

    # ----- 3) Initialize arrays to store short-run results -----
    x_axis_mpt = []  # MPT Sharpe in each short-run window
    y_axis_rp = []   # RP Sharpe in each short-run window

    # For your final "overall" RP results
    overall_rp_returns = []
    overall_rp_vol = 0  # Not used in the final formula but kept if you need it

    # ----- 4) Step through short-run windows in 6-month increments -----
    counter = 0
    end_sr_date = current_date + relativedelta(years=short_run_years)

    while end_sr_date < final_date:
        print("==========================================================")
        print("CURRENT WINDOW:", current_date, " - ", end_sr_date, "\n")

        # 4a) MPT Sharpe for this short window (annualized)
        #     The new find_best_portfolio returns annualized Sharpe
        mpt_sharpe_sr = mpt.find_best_portfolio(
            data,
            market_data,
            daily_rf_rate,
            current_date,
            end_sr_date
        )
        x_axis_mpt.append(mpt_sharpe_sr)

        # 4b) Ex-ante Risk Parity approach for the same short window
        current_ex_ante_date = current_date
        monthly_returns = []
        total_variance = 0

        # We'll re-balance (or re-pick weights) each month inside this window
        while (current_ex_ante_date <= end_sr_date and
               (current_ex_ante_date + relativedelta(days=32) < final_date)):
            # Use data from 2 years prior to estimate covariance, etc.
            _, two_years_prior_str = year(current_ex_ante_date, -2)
            end_ex_ante_date = current_ex_ante_date + relativedelta(months=1)

            # Get risk parity weights from riskparity.produce_rbp_stats(...)
            rp_weights = riskparity.produce_rbp_stats(
                data, b,
                two_years_prior_str,
                current_ex_ante_date.strftime("%Y-%m-%d")
            )

            # Realized monthly returns using MPT's "portfolio_returns" function
            # which returns (total_return, variance) for that 1-month slice
            month_ret, month_var = mpt.portfolio_returns(
                current_ex_ante_date.strftime("%Y-%m-%d"),
                end_ex_ante_date.strftime("%Y-%m-%d"),
                data,
                rp_weights
            )
            monthly_returns.append(month_ret)
            total_variance += month_var

            # Move to next month
            current_ex_ante_date += relativedelta(months=1)

        # 4c) Annualize the short-run RP results (your original approach)
        #     monthly_returns is an array of ~12*short_run_years monthly returns
        #     for each short-run window
        volatility = np.std(monthly_returns) * np.sqrt(12 * short_run_years)
        total_returns = np.prod(1 + np.array(monthly_returns)) - 1
        # Risk-free for this short window
        risk_free_rate_st = (1 + yearly_rf_rate)**(short_run_years) - 1

        # Short-run RP Sharpe
        rp_sharpe_sr = (total_returns - risk_free_rate_st) / volatility
        print(f"RP short-run Sharpe = {rp_sharpe_sr:.3f}  (MPT = {mpt_sharpe_sr:.3f})")

        y_axis_rp.append(rp_sharpe_sr)

        # Optionally store for "overall" calculations
        if (counter % (2 * short_run_years) == 0):
            overall_rp_returns.append(total_returns)
            overall_rp_vol += total_variance

        # Move forward by 6 months
        current_date += relativedelta(months=6)
        end_sr_date += relativedelta(months=6)
        counter += 1

    # ----- 5) Final "long run" RP Sharpe (approx) -----
    # You are taking the standard deviation of the short-run chunk returns,
    # and then scaling up for the total 'years' horizon. This is approximate.
    volatility_lr = np.std(overall_rp_returns) * np.sqrt(years / short_run_years)
    overall_rp_return = np.prod(1 + np.array(overall_rp_returns)) - 1
    long_run_rp_sharpe = (overall_rp_return - risk_free_rate_over_lr) / volatility_lr

    print("OVERALL CALCULATION:",
          overall_rp_return, "-", risk_free_rate_over_lr, "/", volatility_lr)
    print("Long-run Risk Parity Sharpe:", long_run_rp_sharpe)

    return (
        x_axis_mpt,            # short-run MPT Sharpes (annualized)
        y_axis_rp,             # short-run RP Sharpes
        float(long_run_mpt_sharpe),  # long-run MPT Sharpe (annualized)
        float(long_run_rp_sharpe)    # final approximation of long-run RP Sharpe
    )


def rrc_score(x_axis_mpt, y_axis_rp):
    """
    Some custom metric comparing the MPT vs. RP short-run Sharpes.
    """
    return np.sum((np.array(y_axis_rp) - np.array(x_axis_mpt))) / len(y_axis_rp)
