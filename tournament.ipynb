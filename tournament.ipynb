{
 "cells": [
  {
   "cell_type": "code",
   "execution_count": 44,
   "metadata": {},
   "outputs": [
    {
     "name": "stdout",
     "output_type": "stream",
     "text": [
      "['Chris', 'Baxter']\n",
      "['Ethan', 'Bornstein']\n",
      "['Noah', 'Lubliner']\n",
      "['Gannon', 'Arne']\n",
      "['Hayden', 'Macy']\n",
      "['JV', 'Lucas']\n",
      "['Rishav', 'Xu']\n",
      "['Sontag', 'Sinatra']\n"
     ]
    }
   ],
   "source": [
    "import random\n",
    "\n",
    "players = [\"Macy\", \"Baxter\", \"Noah\", \"Sontag\", \"Sinatra\", \"Rishav\", \"Gannon\", \"JV\", \"Bornstein\", \"Ethan\", \"Lucas\", \"Hayden\", \"Lubliner\", \"Chris\", \"Xu\", \"Arne\"]\n",
    "teams = []\n",
    "\n",
    "random.shuffle(players)\n",
    " \n",
    "for i in range(0, len(players), 2):\n",
    "    team = [players[i], players[i + 1]]\n",
    "    print(team)\n",
    "    teams.append(team)\n",
    "\n",
    "\n",
    "# print(teams)"
   ]
  },
  {
   "cell_type": "markdown",
   "metadata": {},
   "source": [
    "['Chris', 'Baxter']\n",
    "['Ethan', 'Bornstein']\n",
    "['Noah', 'Lubliner']\n",
    "['Gannon', 'Arne']\n",
    "['Hayden', 'Macy']\n",
    "['JV', 'Lucas']\n",
    "['Rishav', 'Xu']\n",
    "['Sontag', 'Sinatra']"
   ]
  },
  {
   "cell_type": "code",
   "execution_count": 51,
   "metadata": {},
   "outputs": [
    {
     "name": "stdout",
     "output_type": "stream",
     "text": [
      "(['Gannon', 'Arne'], ['Noah', 'Lubliner'])\n",
      "(['Rishav', 'Xu'], ['Sontag', 'Sinatra'])\n",
      "(['Hayden', 'Macy'], ['Ethan', 'Bornstein'])\n",
      "(['JV', 'Lucas'], ['Chris', 'Baxter'])\n"
     ]
    }
   ],
   "source": [
    "def generate_random_bracket(teams):\n",
    "    if len(teams) != 8:\n",
    "        raise ValueError(\"This function only supports exactly 8 teams.\")\n",
    "    \n",
    "    # Shuffle the teams to randomize matchups\n",
    "    random.shuffle(teams)\n",
    "    \n",
    "    # Create the first round of matchups\n",
    "    round_1 = [\n",
    "        (teams[0], teams[1]),\n",
    "        (teams[2], teams[3]),\n",
    "        (teams[4], teams[5]),\n",
    "        (teams[6], teams[7]),\n",
    "    ]\n",
    "    print(round_1[0])\n",
    "    print(round_1[1])\n",
    "    print(round_1[2])\n",
    "    print(round_1[3])\n",
    "\n",
    "generate_random_bracket(teams)"
   ]
  }
 ],
 "metadata": {
  "kernelspec": {
   "display_name": ".venv",
   "language": "python",
   "name": "python3"
  },
  "language_info": {
   "codemirror_mode": {
    "name": "ipython",
    "version": 3
   },
   "file_extension": ".py",
   "mimetype": "text/x-python",
   "name": "python",
   "nbconvert_exporter": "python",
   "pygments_lexer": "ipython3",
   "version": "3.11.5"
  }
 },
 "nbformat": 4,
 "nbformat_minor": 2
}
