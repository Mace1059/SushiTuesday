{
 "cells": [
  {
   "cell_type": "markdown",
   "id": "42e3c287",
   "metadata": {},
   "source": [
    "# Sushi Tuesday Investment Group Inc."
   ]
  },
  {
   "cell_type": "code",
   "execution_count": null,
   "id": "6e130fd2",
   "metadata": {},
   "outputs": [],
   "source": []
  },
  {
   "cell_type": "code",
   "execution_count": 4,
   "id": "1d0f0c5c",
   "metadata": {},
   "outputs": [],
   "source": [
    "import numpy as np\n",
    "import pandas as pd\n",
    "import matplotlib.pyplot as plt\n",
    "import yfinance as yf\n",
    "from scipy.optimize import minimize\n",
    "\n",
    "\n",
    "def expected_portfolio_performance(weights, mean_returns, cov_matrix):\n",
    "    p_return = np.dot(mean_returns, weights) * 252  # Annualized Return\n",
    "    p_volatility = np.sqrt(weights.T @ cov_matrix @ weights) * np.sqrt(252)  # Annualized Volatility\n",
    "    return p_return, p_volatility\n",
    "\n",
    "def negative_sharpe_ratio(weights, expected_returns, cov_matrix, risk_free_rate):\n",
    "    p_return, p_volatility = expected_portfolio_performance(weights, expected_returns, cov_matrix)\n",
    "    return - (p_return - risk_free_rate)/(p_volatility)\n",
    "\n",
    "def efficient_frontier(expected_returns, cov_matrix, target_returns):\n",
    "    frontier = []\n",
    "    for target in target_returns:\n",
    "        constraints = [\n",
    "            {'type': 'eq', 'fun': lambda x: np.sum(x) - 1},\n",
    "            {'type': 'eq', 'fun': lambda x: expected_portfolio_performance(x, expected_returns, cov_matrix)[0] - target}\n",
    "        ]\n",
    "        bounds = tuple((0, 1) for _ in range(len(expected_returns)))\n",
    "        initial_weights = np.array([1 / len(expected_returns)] * len(expected_returns))\n",
    "\n",
    "        result = minimize(lambda w: expected_portfolio_performance(w, expected_returns, cov_matrix)[1],\n",
    "                          initial_weights, bounds=bounds, constraints=constraints)\n",
    "        if result.success:\n",
    "            frontier.append(result.fun)\n",
    "        else:\n",
    "            frontier.append(None)\n",
    "    return [volatility for volatility in frontier if volatility is not None]  # Filter out None values\n",
    "\n",
    "\n",
    "def max_sharpe_ratio(mean_returns, cov_matrix, risk_free_rate):\n",
    "    constraints = ({'type': 'eq', 'fun': lambda x: np.sum(x) - 1})\n",
    "    bounds = tuple((0, 1) for _ in range(len(mean_returns)))\n",
    "    initial_weights = np.array([1 / len(mean_returns)] * len(mean_returns))\n",
    "\n",
    "    result = minimize(negative_sharpe_ratio, initial_weights, args=(mean_returns, cov_matrix, risk_free_rate),\n",
    "                      bounds=bounds, constraints=constraints)\n",
    "    return result\n",
    "\n",
    "def calculate_beta(asset_returns, market_returns):\n",
    "    covariance = np.cov(asset_returns, market_returns)[0][1]\n",
    "    print(covariance)\n",
    "    market_variance = np.var(market_returns)\n",
    "    beta = covariance / market_variance\n",
    "    return beta\n",
    "\n",
    "def find_best_portfolio(tickers, start_date, end_date):\n",
    "    # Download stock data\n",
    "    data = yf.download(tickers, start=start_date, end=end_date)[\"Close\"]\n",
    "    new_tickers = data.columns.tolist()\n",
    "\n",
    "    # Download market data\n",
    "    market_data = yf.download(\"^GSPC\", start=start_date, end=end_date)[\"Close\"]\n",
    "\n",
    "    # Get Daily returns\n",
    "    daily_stock_returns = data.pct_change().dropna()\n",
    "    cov_daily = daily_stock_returns.cov()\n",
    "\n",
    "    market_returns = market_data.pct_change().dropna().iloc[:, 0]\n",
    "\n",
    "    # Calculate betas\n",
    "    betas = {}\n",
    "    for ticker in new_tickers:\n",
    "        betas[ticker] = calculate_beta(daily_stock_returns[ticker], market_returns)\n",
    "    print(betas)\n",
    "\n",
    "    # Apply CAPM model\n",
    "    risk_free_rate = 0.04366 / 252 # Risk-free rate\n",
    "    annualized_expected_market_return = market_returns.mean()\n",
    "    print(\"Daily Expected Market Return:\", annualized_expected_market_return)\n",
    "    market_risk_premium = (annualized_expected_market_return - risk_free_rate)\n",
    "    expected_returns = np.array([risk_free_rate + beta * (market_risk_premium) for beta in betas.values()])\n",
    "    print(\"Expected Daily Returns:\", expected_returns)\n",
    "\n",
    "    # Efficient Frontier\n",
    "    target_returns = np.linspace(expected_returns.min() * 252, expected_returns.max() * 252, 50)\n",
    "    print(target_returns)\n",
    "    frontier_volatilities = efficient_frontier(expected_returns, cov_daily, target_returns)\n",
    "\n",
    "    # Max sharpe\n",
    "    print(\"Calculating Sharpe\")\n",
    "    max_sharpe_portfolio = max_sharpe_ratio(expected_returns, cov_daily, risk_free_rate)\n",
    "    max_sharpe_return, max_sharpe_volatility = expected_portfolio_performance(max_sharpe_portfolio.x, expected_returns, cov_daily)\n",
    "    print(\"Max Sharpe Return:\", max_sharpe_return)\n",
    "    df = pd.DataFrame(max_sharpe_portfolio.x, index=new_tickers, columns=[\"Value\"])\n",
    "    pd.set_option('display.float_format', '{:.6f}'.format)\n",
    "\n",
    "    plt.figure(figsize=(10, 6))\n",
    "    plt.scatter(max_sharpe_volatility, max_sharpe_return, color='blue', s=200, label='Max Sharpe Ratio Portfolio')\n",
    "    sharpe = (max_sharpe_return - risk_free_rate) / max_sharpe_volatility\n",
    "    print(np.shape(frontier_volatilities))\n",
    "    x = np.linspace(0, frontier_volatilities[-1], 100)\n",
    "    x = np.linspace(0, frontier_volatilities[-1], 100)\n",
    "    y = x * sharpe + risk_free_rate\n",
    "    plt.plot(x, y)\n",
    "    plt.plot(frontier_volatilities, target_returns, color='black', label='Efficient Frontier')\n",
    "    return max_sharpe_return, max_sharpe_volatility, df"
   ]
  },
  {
   "cell_type": "code",
   "execution_count": 5,
   "id": "95c30571",
   "metadata": {},
   "outputs": [
    {
     "name": "stderr",
     "output_type": "stream",
     "text": [
      "[*********************100%***********************]  3 of 3 completed\n",
      "[*********************100%***********************]  1 of 1 completed\n"
     ]
    },
    {
     "name": "stdout",
     "output_type": "stream",
     "text": [
      "7.0676665480502e-05\n",
      "6.0513843003329674e-05\n",
      "0.00012430565763329245\n",
      "{'AXP': np.float64(1.0937541883473871), 'NLR': np.float64(0.9364797955295096), 'SOXX': np.float64(1.9236877227774425)}\n",
      "Daily Expected Market Return: 0.0009615272840531046\n",
      "Expected Daily Returns: [0.00103543 0.00091146 0.00168965]\n",
      "[0.22968691 0.23368903 0.23769115 0.24169327 0.24569539 0.2496975\n",
      " 0.25369962 0.25770174 0.26170386 0.26570598 0.2697081  0.27371021\n",
      " 0.27771233 0.28171445 0.28571657 0.28971869 0.29372081 0.29772292\n",
      " 0.30172504 0.30572716 0.30972928 0.3137314  0.31773351 0.32173563\n",
      " 0.32573775 0.32973987 0.33374199 0.33774411 0.34174622 0.34574834\n",
      " 0.34975046 0.35375258 0.3577547  0.36175682 0.36575893 0.36976105\n",
      " 0.37376317 0.37776529 0.38176741 0.38576953 0.38977164 0.39377376\n",
      " 0.39777588 0.401778   0.40578012 0.40978224 0.41378435 0.41778647\n",
      " 0.42178859 0.42579071]\n",
      "Calculating Sharpe\n",
      "Max Sharpe Return: 0.32623707053764506\n",
      "(50,)\n",
      "Max sharpe return: 0.32623707053764506\n",
      "        Value\n",
      "AXP  0.330305\n",
      "NLR  0.229975\n",
      "SOXX 0.439721\n"
     ]
    },
    {
     "data": {
      "image/png": "[encoded data removed]",
      "text/plain": [
       "<Figure size 1000x600 with 1 Axes>"
      ]
     },
     "metadata": {},
     "output_type": "display_data"
    }
   ],
   "source": [
    "tickers = [\"AXP\", \"NLR\", \"SOXX\"]\n",
    "start_date = \"2022-12-18\"\n",
    "end_date = \"2024-12-17\"\n",
    "max_sharpe_return, max_sharpe_volatility, df = find_best_portfolio(tickers, start_date=start_date, end_date=end_date)\n",
    "print(\"Max sharpe return:\", max_sharpe_return)\n",
    "print(df)\n"
   ]
  },
  {
   "cell_type": "code",
   "execution_count": 32,
   "id": "c1048c16",
   "metadata": {},
   "outputs": [
    {
     "name": "stderr",
     "output_type": "stream",
     "text": [
      "[*********************100%***********************]  5 of 5 completed\n"
     ]
    },
    {
     "name": "stdout",
     "output_type": "stream",
     "text": [
      "technology\n"
     ]
    }
   ],
   "source": [
    "# data = yf.download(tickers, start=start_date, end=end_date)\n",
    "# info = yf.Ticker(tickers[0]).get_info()['industryKey']\n",
    "# info = yf.Ticker(tickers[0]).get_info()['sectorKey']\n",
    "\n",
    "# print(info)\n"
   ]
  },
  {
   "cell_type": "code",
   "execution_count": 39,
   "id": "c01da3d5",
   "metadata": {},
   "outputs": [
    {
     "name": "stdout",
     "output_type": "stream",
     "text": [
      "['MMM', 'AOS', 'ABT', 'ABBV', 'ACN', 'ADBE', 'AMD', 'AES', 'AFL', 'A', 'APD', 'ABNB', 'AKAM', 'ALB', 'ARE', 'ALGN', 'ALLE', 'LNT', 'ALL', 'GOOGL', 'GOOG', 'MO', 'AMZN', 'AMCR', 'AMTM', 'AEE', 'AEP', 'AXP', 'AIG', 'AMT', 'AWK', 'AMP', 'AME', 'AMGN', 'APH', 'ADI', 'ANSS', 'AON', 'APA', 'AAPL', 'AMAT', 'APTV', 'ACGL', 'ADM', 'ANET', 'AJG', 'AIZ', 'T', 'ATO', 'ADSK', 'ADP', 'AZO', 'AVB', 'AVY', 'AXON', 'BKR', 'BALL', 'BAC', 'BAX', 'BDX', 'BRK.B', 'BBY', 'TECH', 'BIIB', 'BLK', 'BX', 'BK', 'BA', 'BKNG', 'BWA', 'BSX', 'BMY', 'AVGO', 'BR', 'BRO', 'BF.B', 'BLDR', 'BG', 'BXP', 'CHRW', 'CDNS', 'CZR', 'CPT', 'CPB', 'COF', 'CAH', 'KMX', 'CCL', 'CARR', 'CTLT', 'CAT', 'CBOE', 'CBRE', 'CDW', 'CE', 'COR', 'CNC', 'CNP', 'CF', 'CRL', 'SCHW', 'CHTR', 'CVX', 'CMG', 'CB', 'CHD', 'CI', 'CINF', 'CTAS', 'CSCO', 'C', 'CFG', 'CLX', 'CME', 'CMS', 'KO', 'CTSH', 'CL', 'CMCSA', 'CAG', 'COP', 'ED', 'STZ', 'CEG', 'COO', 'CPRT', 'GLW', 'CPAY', 'CTVA', 'CSGP', 'COST', 'CTRA', 'CRWD', 'CCI', 'CSX', 'CMI', 'CVS', 'DHR', 'DRI', 'DVA', 'DAY', 'DECK', 'DE', 'DELL', 'DAL', 'DVN', 'DXCM', 'FANG', 'DLR', 'DFS', 'DG', 'DLTR', 'D', 'DPZ', 'DOV', 'DOW', 'DHI', 'DTE', 'DUK', 'DD', 'EMN', 'ETN', 'EBAY', 'ECL', 'EIX', 'EW', 'EA', 'ELV', 'EMR', 'ENPH', 'ETR', 'EOG', 'EPAM', 'EQT', 'EFX', 'EQIX', 'EQR', 'ERIE', 'ESS', 'EL', 'EG', 'EVRG', 'ES', 'EXC', 'EXPE', 'EXPD', 'EXR', 'XOM', 'FFIV', 'FDS', 'FICO', 'FAST', 'FRT', 'FDX', 'FIS', 'FITB', 'FSLR', 'FE', 'FI', 'FMC', 'F', 'FTNT', 'FTV', 'FOXA', 'FOX', 'BEN', 'FCX', 'GRMN', 'IT', 'GE', 'GEHC', 'GEV', 'GEN', 'GNRC', 'GD', 'GIS', 'GM', 'GPC', 'GILD', 'GPN', 'GL', 'GDDY', 'GS', 'HAL', 'HIG', 'HAS', 'HCA', 'DOC', 'HSIC', 'HSY', 'HES', 'HPE', 'HLT', 'HOLX', 'HD', 'HON', 'HRL', 'HST', 'HWM', 'HPQ', 'HUBB', 'HUM', 'HBAN', 'HII', 'IBM', 'IEX', 'IDXX', 'ITW', 'INCY', 'IR', 'PODD', 'INTC', 'ICE', 'IFF', 'IP', 'IPG', 'INTU', 'ISRG', 'IVZ', 'INVH', 'IQV', 'IRM', 'JBHT', 'JBL', 'JKHY', 'J', 'JNJ', 'JCI', 'JPM', 'JNPR', 'K', 'KVUE', 'KDP', 'KEY', 'KEYS', 'KMB', 'KIM', 'KMI', 'KKR', 'KLAC', 'KHC', 'KR', 'LHX', 'LH', 'LRCX', 'LW', 'LVS', 'LDOS', 'LEN', 'LLY', 'LIN', 'LYV', 'LKQ', 'LMT', 'L', 'LOW', 'LULU', 'LYB', 'MTB', 'MPC', 'MKTX', 'MAR', 'MMC', 'MLM', 'MAS', 'MA', 'MTCH', 'MKC', 'MCD', 'MCK', 'MDT', 'MRK', 'META', 'MET', 'MTD', 'MGM', 'MCHP', 'MU', 'MSFT', 'MAA', 'MRNA', 'MHK', 'MOH', 'TAP', 'MDLZ', 'MPWR', 'MNST', 'MCO', 'MS', 'MOS', 'MSI', 'MSCI', 'NDAQ', 'NTAP', 'NFLX', 'NEM', 'NWSA', 'NWS', 'NEE', 'NKE', 'NI', 'NDSN', 'NSC', 'NTRS', 'NOC', 'NCLH', 'NRG', 'NUE', 'NVDA', 'NVR', 'NXPI', 'ORLY', 'OXY', 'ODFL', 'OMC', 'ON', 'OKE', 'ORCL', 'OTIS', 'PCAR', 'PKG', 'PLTR', 'PANW', 'PARA', 'PH', 'PAYX', 'PAYC', 'PYPL', 'PNR', 'PEP', 'PFE', 'PCG', 'PM', 'PSX', 'PNW', 'PNC', 'POOL', 'PPG', 'PPL', 'PFG', 'PG', 'PGR', 'PLD', 'PRU', 'PEG', 'PTC', 'PSA', 'PHM', 'QRVO', 'PWR', 'QCOM', 'DGX', 'RL', 'RJF', 'RTX', 'O', 'REG', 'REGN', 'RF', 'RSG', 'RMD', 'RVTY', 'ROK', 'ROL', 'ROP', 'ROST', 'RCL', 'SPGI', 'CRM', 'SBAC', 'SLB', 'STX', 'SRE', 'NOW', 'SHW', 'SPG', 'SWKS', 'SJM', 'SW', 'SNA', 'SOLV', 'SO', 'LUV', 'SWK', 'SBUX', 'STT', 'STLD', 'STE', 'SYK', 'SMCI', 'SYF', 'SNPS', 'SYY', 'TMUS', 'TROW', 'TTWO', 'TPR', 'TRGP', 'TGT', 'TEL', 'TDY', 'TFX', 'TER', 'TSLA', 'TXN', 'TPL', 'TXT', 'TMO', 'TJX', 'TSCO', 'TT', 'TDG', 'TRV', 'TRMB', 'TFC', 'TYL', 'TSN', 'USB', 'UBER', 'UDR', 'ULTA', 'UNP', 'UAL', 'UPS', 'URI', 'UNH', 'UHS', 'VLO', 'VTR', 'VLTO', 'VRSN', 'VRSK', 'VZ', 'VRTX', 'VTRS', 'VICI', 'V', 'VST', 'VMC', 'WRB', 'GWW', 'WAB', 'WBA', 'WMT', 'DIS', 'WBD', 'WM', 'WAT', 'WEC', 'WFC', 'WELL', 'WST', 'WDC', 'WY', 'WMB', 'WTW', 'WYNN', 'XEL', 'XYL', 'YUM', 'ZBRA', 'ZBH', 'ZTS']\n",
      "                                Name                           industryKey  \\\n",
      "MMM                       3M Company                         conglomerates   \n",
      "AOS           A.O. Smith Corporation        specialty-industrial-machinery   \n",
      "ABT              Abbott Laboratories                       medical-devices   \n",
      "ABBV                     AbbVie Inc.            drug-manufacturers-general   \n",
      "ACN                    Accenture plc       information-technology-services   \n",
      "...                              ...                                   ...   \n",
      "XYL                       Xylem Inc.        specialty-industrial-machinery   \n",
      "YUM                Yum! Brands, Inc.                           restaurants   \n",
      "ZBRA  Zebra Technologies Corporation               communication-equipment   \n",
      "ZBH     Zimmer Biomet Holdings, Inc.                       medical-devices   \n",
      "ZTS                      Zoetis Inc.  drug-manufacturers-specialty-generic   \n",
      "\n",
      "              sectorKey                                        description  \n",
      "MMM         industrials  3M Company provides diversified technology ser...  \n",
      "AOS         industrials  A. O. Smith Corporation manufactures and marke...  \n",
      "ABT          healthcare  Abbott Laboratories, together with its subsidi...  \n",
      "ABBV         healthcare  AbbVie Inc. discovers, develops, manufactures,...  \n",
      "ACN          technology  Accenture plc provides strategy and consulting...  \n",
      "...                 ...                                                ...  \n",
      "XYL         industrials  Xylem Inc., together with its subsidiaries, en...  \n",
      "YUM   consumer-cyclical  Yum! Brands, Inc., together with its subsidiar...  \n",
      "ZBRA         technology  Zebra Technologies Corporation, together with ...  \n",
      "ZBH          healthcare  Zimmer Biomet Holdings, Inc., together with it...  \n",
      "ZTS          healthcare  Zoetis Inc. engages in the discovery, developm...  \n",
      "\n",
      "[503 rows x 4 columns]\n"
     ]
    }
   ],
   "source": [
    "# Step 1: Fetch the list of S&P 500 companies (from Wikipedia)\n",
    "url = 'https://en.wikipedia.org/wiki/List_of_S%26P_500_companies'\n",
    "snp500_table = pd.read_html(url)\n",
    "snp500_df = snp500_table[0]  # The first table contains the data\n",
    "# Extract the ticker symbols\n",
    "tickers = snp500_df['Symbol'].tolist()\n",
    "print(tickers)\n",
    "\n",
    "# Step 2: Fetch data for all tickers using yfinance\n",
    "data = {}\n",
    "for ticker in tickers:\n",
    "    try:\n",
    "        stock = yf.Ticker(ticker)\n",
    "        info = stock.get_info()\n",
    "        data[ticker] = {\n",
    "            'Name': info.get('shortName', ''),\n",
    "            'industryKey': info.get('industryKey', ''),\n",
    "            'sectorKey': info.get('sectorKey', ''),\n",
    "            'description': info.get('longBusinessSummary', '')\n",
    "        }\n",
    "    except Exception as e:\n",
    "        print(f\"Could not fetch data for {ticker}: {e}\")\n",
    "\n",
    "snp500_data = pd.DataFrame.from_dict(data, orient='index')\n",
    "snp500_data.to_csv('snp500_data.csv', index=True)\n",
    "print(snp500_data)\n"
   ]
  },
  {
   "cell_type": "code",
   "execution_count": 46,
   "id": "c9206d08",
   "metadata": {},
   "outputs": [
    {
     "name": "stdout",
     "output_type": "stream",
     "text": [
      "['industrials' 'healthcare' 'technology' 'utilities' 'financial-services'\n",
      " 'basic-materials' 'consumer-cyclical' 'real-estate'\n",
      " 'communication-services' 'consumer-defensive' 'energy' '']\n"
     ]
    }
   ],
   "source": [
    "print(snp500_data['sectorKey'].unique())\n"
   ]
  },
  {
   "cell_type": "code",
   "execution_count": 45,
   "id": "ddbe78ef",
   "metadata": {},
   "outputs": [
    {
     "name": "stderr",
     "output_type": "stream",
     "text": [
      "[*********************100%***********************]  70 of 70 completed\n",
      "\n",
      "1 Failed download:\n",
      "['AMTM']: YFPricesMissingError('$%ticker%: possibly delisted; no price data found  (1d 2023-01-01 -> 2024-06-01) (Yahoo error = \"Data doesn\\'t exist for startDate = 1672549200, endDate = 1717214400\")')\n",
      "[***                    6%                       ]  4 of 63 completed"
     ]
    },
    {
     "name": "stdout",
     "output_type": "stream",
     "text": [
      "Calculating Sharpe \n",
      "Sector: industrials\n",
      "       Value\n",
      "GE  0.100124\n",
      "HWM 0.049398\n",
      "MMM 0.073083\n",
      "RTX 0.278899\n",
      "TDG 0.074468\n",
      "TT  0.048186\n",
      "WAB 0.108433\n",
      "WM  0.191310\n",
      "XYL 0.057554\n"
     ]
    },
    {
     "name": "stderr",
     "output_type": "stream",
     "text": [
      "[*********************100%***********************]  63 of 63 completed\n"
     ]
    },
    {
     "name": "stdout",
     "output_type": "stream",
     "text": [
      "Calculating Sharpe \n",
      "Sector: healthcare\n",
      "        Value\n",
      "AMGN 0.083917\n",
      "BSX  0.263050\n",
      "DVA  0.071037\n",
      "ELV  0.060917\n",
      "LLY  0.209212\n",
      "MCK  0.153430\n",
      "MRNA 0.126420\n"
     ]
    },
    {
     "name": "stderr",
     "output_type": "stream",
     "text": [
      "[*********************100%***********************]  82 of 82 completed\n"
     ]
    },
    {
     "name": "stdout",
     "output_type": "stream",
     "text": [
      "Calculating Sharpe \n",
      "Sector: technology\n",
      "        Value\n",
      "BR   0.060276\n",
      "DELL 0.093944\n",
      "GDDY 0.124279\n",
      "GRMN 0.154746\n",
      "LDOS 0.168058\n",
      "NVDA 0.222558\n",
      "UBER 0.074735\n"
     ]
    },
    {
     "name": "stderr",
     "output_type": "stream",
     "text": [
      "[*********************100%***********************]  32 of 32 completed\n",
      "[                       0%                       ]"
     ]
    },
    {
     "name": "stdout",
     "output_type": "stream",
     "text": [
      "Calculating Sharpe \n",
      "Sector: utilities\n",
      "       Value\n",
      "NEE 0.862878\n",
      "VST 0.100117\n"
     ]
    },
    {
     "name": "stderr",
     "output_type": "stream",
     "text": [
      "[*********************100%***********************]  66 of 66 completed\n",
      "[                       0%                       ]"
     ]
    },
    {
     "name": "stdout",
     "output_type": "stream",
     "text": [
      "Calculating Sharpe \n",
      "Sector: financial-services\n",
      "        Value\n",
      "ACGL 0.077390\n",
      "BRO  0.094266\n",
      "CBOE 0.223982\n",
      "ERIE 0.055975\n",
      "KKR  0.300154\n",
      "PGR  0.184266\n"
     ]
    },
    {
     "name": "stderr",
     "output_type": "stream",
     "text": [
      "[*********************100%***********************]  22 of 22 completed\n",
      "[***                    7%                       ]  4 of 55 completed"
     ]
    },
    {
     "name": "stdout",
     "output_type": "stream",
     "text": [
      "Calculating Sharpe \n",
      "Sector: basic-materials\n",
      "       Value\n",
      "ECL 0.473498\n",
      "FCX 0.043235\n",
      "LIN 0.112306\n",
      "MLM 0.344651\n"
     ]
    },
    {
     "name": "stderr",
     "output_type": "stream",
     "text": [
      "[*********************100%***********************]  55 of 55 completed\n",
      "\n",
      "1 Failed download:\n",
      "['SW']: YFPricesMissingError('$%ticker%: possibly delisted; no price data found  (1d 2023-01-01 -> 2024-06-01) (Yahoo error = \"Data doesn\\'t exist for startDate = 1672549200, endDate = 1717214400\")')\n",
      "[                       0%                       ]"
     ]
    },
    {
     "name": "stdout",
     "output_type": "stream",
     "text": [
      "Calculating Sharpe \n",
      "Sector: consumer-cyclical\n",
      "        Value\n",
      "CMG  0.350283\n",
      "DECK 0.189368\n",
      "PHM  0.203263\n",
      "RCL  0.239208\n"
     ]
    },
    {
     "name": "stderr",
     "output_type": "stream",
     "text": [
      "[*********************100%***********************]  31 of 31 completed\n"
     ]
    },
    {
     "name": "stdout",
     "output_type": "stream",
     "text": [
      "Calculating Sharpe \n",
      "Sector: real-estate\n",
      "        Value\n",
      "IRM  0.558850\n",
      "WELL 0.441150\n"
     ]
    },
    {
     "name": "stderr",
     "output_type": "stream",
     "text": [
      "[*********************100%***********************]  22 of 22 completed\n",
      "[                       0%                       ]"
     ]
    },
    {
     "name": "stdout",
     "output_type": "stream",
     "text": [
      "Calculating Sharpe \n",
      "Sector: communication-services\n",
      "        Value\n",
      "GOOG 0.040423\n",
      "META 0.358252\n",
      "NFLX 0.179229\n",
      "TMUS 0.344486\n"
     ]
    },
    {
     "name": "stderr",
     "output_type": "stream",
     "text": [
      "[*********************100%***********************]  36 of 36 completed\n",
      "[*******               14%                       ]  3 of 22 completed"
     ]
    },
    {
     "name": "stdout",
     "output_type": "stream",
     "text": [
      "Calculating Sharpe \n",
      "Sector: consumer-defensive\n",
      "        Value\n",
      "BG   0.133142\n",
      "COST 0.761285\n",
      "WMT  0.105574\n"
     ]
    },
    {
     "name": "stderr",
     "output_type": "stream",
     "text": [
      "[*********************100%***********************]  22 of 22 completed\n"
     ]
    },
    {
     "name": "stdout",
     "output_type": "stream",
     "text": [
      "Calculating Sharpe \n",
      "Sector: energy\n",
      "        Value\n",
      "MPC  0.200483\n",
      "TRGP 0.799517\n"
     ]
    },
    {
     "name": "stderr",
     "output_type": "stream",
     "text": [
      "[*********************100%***********************]  2 of 2 completed\n",
      "\n",
      "2 Failed downloads:\n",
      "['BF.B']: YFPricesMissingError('$%ticker%: possibly delisted; no price data found  (1d 2023-01-01 -> 2024-06-01)')\n",
      "['BRK.B']: YFTzMissingError('$%ticker%: possibly delisted; no timezone found')\n"
     ]
    },
    {
     "name": "stdout",
     "output_type": "stream",
     "text": [
      "Calculating Sharpe \n"
     ]
    },
    {
     "ename": "ZeroDivisionError",
     "evalue": "division by zero",
     "output_type": "error",
     "traceback": [
      "\u001b[1;31m---------------------------------------------------------------------------\u001b[0m",
      "\u001b[1;31mZeroDivisionError\u001b[0m                         Traceback (most recent call last)",
      "Cell \u001b[1;32mIn[45], line 5\u001b[0m\n\u001b[0;32m      3\u001b[0m \u001b[38;5;28;01mfor\u001b[39;00m sector \u001b[38;5;129;01min\u001b[39;00m snp500_data[\u001b[38;5;124m'\u001b[39m\u001b[38;5;124msectorKey\u001b[39m\u001b[38;5;124m'\u001b[39m]\u001b[38;5;241m.\u001b[39munique():\n\u001b[0;32m      4\u001b[0m     tickers \u001b[38;5;241m=\u001b[39m snp500_data[snp500_data[\u001b[38;5;124m'\u001b[39m\u001b[38;5;124msectorKey\u001b[39m\u001b[38;5;124m'\u001b[39m] \u001b[38;5;241m==\u001b[39m sector][\u001b[38;5;124m'\u001b[39m\u001b[38;5;124msectorKey\u001b[39m\u001b[38;5;124m'\u001b[39m]\u001b[38;5;241m.\u001b[39mindex\u001b[38;5;241m.\u001b[39mtolist()\n\u001b[1;32m----> 5\u001b[0m     max_sharpe_return, max_sharpe_volatility, df \u001b[38;5;241m=\u001b[39m \u001b[43mfind_best_portfolio\u001b[49m\u001b[43m(\u001b[49m\u001b[43mtickers\u001b[49m\u001b[43m,\u001b[49m\u001b[43m \u001b[49m\u001b[43mstart_date\u001b[49m\u001b[38;5;241;43m=\u001b[39;49m\u001b[43mstart_date\u001b[49m\u001b[43m,\u001b[49m\u001b[43m \u001b[49m\u001b[43mend_date\u001b[49m\u001b[38;5;241;43m=\u001b[39;49m\u001b[43mend_date\u001b[49m\u001b[43m)\u001b[49m\n\u001b[0;32m      6\u001b[0m     \u001b[38;5;28mprint\u001b[39m(\u001b[38;5;124mf\u001b[39m\u001b[38;5;124m\"\u001b[39m\u001b[38;5;124mSector: \u001b[39m\u001b[38;5;132;01m{\u001b[39;00msector\u001b[38;5;132;01m}\u001b[39;00m\u001b[38;5;124m\"\u001b[39m)\n\u001b[0;32m      7\u001b[0m     df_filtered \u001b[38;5;241m=\u001b[39m df[df[\u001b[38;5;124m'\u001b[39m\u001b[38;5;124mValue\u001b[39m\u001b[38;5;124m'\u001b[39m] \u001b[38;5;241m>\u001b[39m\u001b[38;5;241m=\u001b[39m \u001b[38;5;241m0.04\u001b[39m]\n",
      "Cell \u001b[1;32mIn[30], line 66\u001b[0m, in \u001b[0;36mfind_best_portfolio\u001b[1;34m(tickers, start_date, end_date)\u001b[0m\n\u001b[0;32m     60\u001b[0m \u001b[38;5;66;03m# Efficient Frontier\u001b[39;00m\n\u001b[0;32m     61\u001b[0m \u001b[38;5;66;03m# target_returns = np.linspace(mean_returns.min() * 252, mean_returns.max() * 252, 50)\u001b[39;00m\n\u001b[0;32m     62\u001b[0m \u001b[38;5;66;03m# frontier_volatilities = efficient_frontier(mean_returns, cov_matrix, target_returns)\u001b[39;00m\n\u001b[0;32m     63\u001b[0m \n\u001b[0;32m     64\u001b[0m \u001b[38;5;66;03m# Max sharpe\u001b[39;00m\n\u001b[0;32m     65\u001b[0m \u001b[38;5;28mprint\u001b[39m(\u001b[38;5;124m\"\u001b[39m\u001b[38;5;124mCalculating Sharpe \u001b[39m\u001b[38;5;124m\"\u001b[39m)\n\u001b[1;32m---> 66\u001b[0m max_sharpe_portfolio \u001b[38;5;241m=\u001b[39m \u001b[43mmax_sharpe_ratio\u001b[49m\u001b[43m(\u001b[49m\u001b[43mmean_returns\u001b[49m\u001b[43m,\u001b[49m\u001b[43m \u001b[49m\u001b[43mcov_matrix\u001b[49m\u001b[43m,\u001b[49m\u001b[43m \u001b[49m\u001b[43mrisk_free_rate\u001b[49m\u001b[43m)\u001b[49m\n\u001b[0;32m     67\u001b[0m max_sharpe_return, max_sharpe_volatility \u001b[38;5;241m=\u001b[39m portfolio_performance(max_sharpe_portfolio\u001b[38;5;241m.\u001b[39mx, mean_returns, cov_matrix)\n\u001b[0;32m     69\u001b[0m df \u001b[38;5;241m=\u001b[39m pd\u001b[38;5;241m.\u001b[39mDataFrame(max_sharpe_portfolio\u001b[38;5;241m.\u001b[39mx, index\u001b[38;5;241m=\u001b[39mnew_tickers, columns\u001b[38;5;241m=\u001b[39m[\u001b[38;5;124m\"\u001b[39m\u001b[38;5;124mValue\u001b[39m\u001b[38;5;124m\"\u001b[39m])\n",
      "Cell \u001b[1;32mIn[30], line 39\u001b[0m, in \u001b[0;36mmax_sharpe_ratio\u001b[1;34m(mean_returns, cov_matrix, risk_free_rate)\u001b[0m\n\u001b[0;32m     37\u001b[0m constraints \u001b[38;5;241m=\u001b[39m ({\u001b[38;5;124m'\u001b[39m\u001b[38;5;124mtype\u001b[39m\u001b[38;5;124m'\u001b[39m: \u001b[38;5;124m'\u001b[39m\u001b[38;5;124meq\u001b[39m\u001b[38;5;124m'\u001b[39m, \u001b[38;5;124m'\u001b[39m\u001b[38;5;124mfun\u001b[39m\u001b[38;5;124m'\u001b[39m: \u001b[38;5;28;01mlambda\u001b[39;00m x: np\u001b[38;5;241m.\u001b[39msum(x) \u001b[38;5;241m-\u001b[39m \u001b[38;5;241m1\u001b[39m})\n\u001b[0;32m     38\u001b[0m bounds \u001b[38;5;241m=\u001b[39m \u001b[38;5;28mtuple\u001b[39m((\u001b[38;5;241m0\u001b[39m, \u001b[38;5;241m1\u001b[39m) \u001b[38;5;28;01mfor\u001b[39;00m _ \u001b[38;5;129;01min\u001b[39;00m \u001b[38;5;28mrange\u001b[39m(\u001b[38;5;28mlen\u001b[39m(mean_returns)))\n\u001b[1;32m---> 39\u001b[0m initial_weights \u001b[38;5;241m=\u001b[39m np\u001b[38;5;241m.\u001b[39marray([\u001b[38;5;241;43m1\u001b[39;49m\u001b[43m \u001b[49m\u001b[38;5;241;43m/\u001b[39;49m\u001b[43m \u001b[49m\u001b[38;5;28;43mlen\u001b[39;49m\u001b[43m(\u001b[49m\u001b[43mmean_returns\u001b[49m\u001b[43m)\u001b[49m] \u001b[38;5;241m*\u001b[39m \u001b[38;5;28mlen\u001b[39m(mean_returns))\n\u001b[0;32m     41\u001b[0m result \u001b[38;5;241m=\u001b[39m minimize(negative_sharpe_ratio, initial_weights, args\u001b[38;5;241m=\u001b[39m(mean_returns, cov_matrix, risk_free_rate),\n\u001b[0;32m     42\u001b[0m                   bounds\u001b[38;5;241m=\u001b[39mbounds, constraints\u001b[38;5;241m=\u001b[39mconstraints)\n\u001b[0;32m     43\u001b[0m \u001b[38;5;28;01mreturn\u001b[39;00m result\n",
      "\u001b[1;31mZeroDivisionError\u001b[0m: division by zero"
     ]
    }
   ],
   "source": [
    "start_date = \"2023-01-01\"\n",
    "end_date = \"2024-06-01\"\n",
    "for sector in snp500_data['sectorKey'].unique():\n",
    "    tickers = snp500_data[snp500_data['sectorKey'] == sector]['sectorKey'].index.tolist()\n",
    "    max_sharpe_return, max_sharpe_volatility, df = find_best_portfolio(tickers, start_date=start_date, end_date=end_date)\n",
    "    print(f\"Sector: {sector}\")\n",
    "    df_filtered = df[df['Value'] >= 0.04]\n",
    "    print(df_filtered)\n",
    "    df_filtered.to_csv('./weights/' + sector + \".csv\")"
   ]
  },
  {
   "cell_type": "code",
   "execution_count": null,
   "id": "01b98735",
   "metadata": {},
   "outputs": [],
   "source": [
    "df.to_excel(\"snp500.xlsx\")"
   ]
  }
 ],
 "metadata": {
  "kernelspec": {
   "display_name": ".venv",
   "language": "python",
   "name": "python3"
  },
  "language_info": {
   "codemirror_mode": {
    "name": "ipython",
    "version": 3
   },
   "file_extension": ".py",
   "mimetype": "text/x-python",
   "name": "python",
   "nbconvert_exporter": "python",
   "pygments_lexer": "ipython3",
   "version": "3.11.5"
  }
 },
 "nbformat": 4,
 "nbformat_minor": 5
}
